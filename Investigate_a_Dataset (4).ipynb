{
 "cells": [
  {
   "cell_type": "markdown",
   "metadata": {},
   "source": [
    "\n",
    "\n",
    "# Project: Investigate a Dataset - [TMDb movie data]\n",
    "\n",
    "## Table of Contents\n",
    "<ul>\n",
    "<li><a href=\"#intro\">Introduction</a></li>\n",
    "<li><a href=\"#wrangling\">Data Wrangling</a></li>\n",
    "<li><a href=\"#eda\">Exploratory Data Analysis</a></li>\n",
    "<li><a href=\"#conclusions\">Conclusions</a></li>\n",
    "</ul>"
   ]
  },
  {
   "cell_type": "markdown",
   "metadata": {},
   "source": [
    "<a id='intro'></a>\n",
    "## Introduction\n",
    "\n",
    "### Dataset Description \n",
    "\n",
    "This data set  collected from The Movie Database (TMDb) contains information about 10,000 movies,\n",
    "the data set is divided into 21 columns the most important ones for our analysis are:                            \n",
    "original_title, release_year, budget, budget_adj, revenue, revenue_adj, vote_count, vote_average, runtime , genres \n",
    "\n",
    "### Question(s) for Analysis\n",
    "\n",
    "There are three main questions that this analysis intend to answer                                                    \n",
    "the first one is to differentiate between genres by the most commonly produced,most profitable and most popular,              the second is see the movie industry growth over year,                                                                         the last is the find the relation between the vote (rating) and other factors\n",
    "   "
   ]
  },
  {
   "cell_type": "code",
   "execution_count": 1,
   "metadata": {},
   "outputs": [],
   "source": [
    "# Use this cell to set up import statements for all of the packages that you\n",
    "# plan to use.\n",
    "import pandas as pd\n",
    "import numpy as np\n",
    "import matplotlib.pyplot as plt\n",
    "import seaborn as sns\n",
    "%matplotlib inline\n",
    "\n"
   ]
  },
  {
   "cell_type": "code",
   "execution_count": 2,
   "metadata": {},
   "outputs": [],
   "source": [
    "def lab_title(title,x,y,t_size=12,x_s=10,y_s=10):\n",
    "    plt.title(title,fontsize=t_size);\n",
    "    plt.xlabel(x,fontsize=x_s);\n",
    "    plt.ylabel(y,fontsize=y_s);\n",
    "    \n",
    "    "
   ]
  },
  {
   "cell_type": "code",
   "execution_count": 3,
   "metadata": {},
   "outputs": [],
   "source": [
    "# Upgrade pandas to use dataframe.explode() function. \n",
    "#!pip install --upgrade pandas==0.25.0"
   ]
  },
  {
   "cell_type": "markdown",
   "metadata": {},
   "source": [
    "<a id='wrangling'></a>\n",
    "## Data Wrangling"
   ]
  },
  {
   "cell_type": "code",
   "execution_count": 4,
   "metadata": {},
   "outputs": [
    {
     "data": {
      "text/html": [
       "<div>\n",
       "<style scoped>\n",
       "    .dataframe tbody tr th:only-of-type {\n",
       "        vertical-align: middle;\n",
       "    }\n",
       "\n",
       "    .dataframe tbody tr th {\n",
       "        vertical-align: top;\n",
       "    }\n",
       "\n",
       "    .dataframe thead th {\n",
       "        text-align: right;\n",
       "    }\n",
       "</style>\n",
       "<table border=\"1\" class=\"dataframe\">\n",
       "  <thead>\n",
       "    <tr style=\"text-align: right;\">\n",
       "      <th></th>\n",
       "      <th>id</th>\n",
       "      <th>imdb_id</th>\n",
       "      <th>popularity</th>\n",
       "      <th>budget</th>\n",
       "      <th>revenue</th>\n",
       "      <th>original_title</th>\n",
       "      <th>cast</th>\n",
       "      <th>homepage</th>\n",
       "      <th>director</th>\n",
       "      <th>tagline</th>\n",
       "      <th>...</th>\n",
       "      <th>overview</th>\n",
       "      <th>runtime</th>\n",
       "      <th>genres</th>\n",
       "      <th>production_companies</th>\n",
       "      <th>release_date</th>\n",
       "      <th>vote_count</th>\n",
       "      <th>vote_average</th>\n",
       "      <th>release_year</th>\n",
       "      <th>budget_adj</th>\n",
       "      <th>revenue_adj</th>\n",
       "    </tr>\n",
       "  </thead>\n",
       "  <tbody>\n",
       "    <tr>\n",
       "      <th>0</th>\n",
       "      <td>135397</td>\n",
       "      <td>tt0369610</td>\n",
       "      <td>32.985763</td>\n",
       "      <td>150000000</td>\n",
       "      <td>1513528810</td>\n",
       "      <td>Jurassic World</td>\n",
       "      <td>Chris Pratt|Bryce Dallas Howard|Irrfan Khan|Vi...</td>\n",
       "      <td>http://www.jurassicworld.com/</td>\n",
       "      <td>Colin Trevorrow</td>\n",
       "      <td>The park is open.</td>\n",
       "      <td>...</td>\n",
       "      <td>Twenty-two years after the events of Jurassic ...</td>\n",
       "      <td>124</td>\n",
       "      <td>Action|Adventure|Science Fiction|Thriller</td>\n",
       "      <td>Universal Studios|Amblin Entertainment|Legenda...</td>\n",
       "      <td>6/9/15</td>\n",
       "      <td>5562</td>\n",
       "      <td>6.5</td>\n",
       "      <td>2015</td>\n",
       "      <td>1.379999e+08</td>\n",
       "      <td>1.392446e+09</td>\n",
       "    </tr>\n",
       "    <tr>\n",
       "      <th>1</th>\n",
       "      <td>76341</td>\n",
       "      <td>tt1392190</td>\n",
       "      <td>28.419936</td>\n",
       "      <td>150000000</td>\n",
       "      <td>378436354</td>\n",
       "      <td>Mad Max: Fury Road</td>\n",
       "      <td>Tom Hardy|Charlize Theron|Hugh Keays-Byrne|Nic...</td>\n",
       "      <td>http://www.madmaxmovie.com/</td>\n",
       "      <td>George Miller</td>\n",
       "      <td>What a Lovely Day.</td>\n",
       "      <td>...</td>\n",
       "      <td>An apocalyptic story set in the furthest reach...</td>\n",
       "      <td>120</td>\n",
       "      <td>Action|Adventure|Science Fiction|Thriller</td>\n",
       "      <td>Village Roadshow Pictures|Kennedy Miller Produ...</td>\n",
       "      <td>5/13/15</td>\n",
       "      <td>6185</td>\n",
       "      <td>7.1</td>\n",
       "      <td>2015</td>\n",
       "      <td>1.379999e+08</td>\n",
       "      <td>3.481613e+08</td>\n",
       "    </tr>\n",
       "    <tr>\n",
       "      <th>2</th>\n",
       "      <td>262500</td>\n",
       "      <td>tt2908446</td>\n",
       "      <td>13.112507</td>\n",
       "      <td>110000000</td>\n",
       "      <td>295238201</td>\n",
       "      <td>Insurgent</td>\n",
       "      <td>Shailene Woodley|Theo James|Kate Winslet|Ansel...</td>\n",
       "      <td>http://www.thedivergentseries.movie/#insurgent</td>\n",
       "      <td>Robert Schwentke</td>\n",
       "      <td>One Choice Can Destroy You</td>\n",
       "      <td>...</td>\n",
       "      <td>Beatrice Prior must confront her inner demons ...</td>\n",
       "      <td>119</td>\n",
       "      <td>Adventure|Science Fiction|Thriller</td>\n",
       "      <td>Summit Entertainment|Mandeville Films|Red Wago...</td>\n",
       "      <td>3/18/15</td>\n",
       "      <td>2480</td>\n",
       "      <td>6.3</td>\n",
       "      <td>2015</td>\n",
       "      <td>1.012000e+08</td>\n",
       "      <td>2.716190e+08</td>\n",
       "    </tr>\n",
       "    <tr>\n",
       "      <th>3</th>\n",
       "      <td>140607</td>\n",
       "      <td>tt2488496</td>\n",
       "      <td>11.173104</td>\n",
       "      <td>200000000</td>\n",
       "      <td>2068178225</td>\n",
       "      <td>Star Wars: The Force Awakens</td>\n",
       "      <td>Harrison Ford|Mark Hamill|Carrie Fisher|Adam D...</td>\n",
       "      <td>http://www.starwars.com/films/star-wars-episod...</td>\n",
       "      <td>J.J. Abrams</td>\n",
       "      <td>Every generation has a story.</td>\n",
       "      <td>...</td>\n",
       "      <td>Thirty years after defeating the Galactic Empi...</td>\n",
       "      <td>136</td>\n",
       "      <td>Action|Adventure|Science Fiction|Fantasy</td>\n",
       "      <td>Lucasfilm|Truenorth Productions|Bad Robot</td>\n",
       "      <td>12/15/15</td>\n",
       "      <td>5292</td>\n",
       "      <td>7.5</td>\n",
       "      <td>2015</td>\n",
       "      <td>1.839999e+08</td>\n",
       "      <td>1.902723e+09</td>\n",
       "    </tr>\n",
       "    <tr>\n",
       "      <th>4</th>\n",
       "      <td>168259</td>\n",
       "      <td>tt2820852</td>\n",
       "      <td>9.335014</td>\n",
       "      <td>190000000</td>\n",
       "      <td>1506249360</td>\n",
       "      <td>Furious 7</td>\n",
       "      <td>Vin Diesel|Paul Walker|Jason Statham|Michelle ...</td>\n",
       "      <td>http://www.furious7.com/</td>\n",
       "      <td>James Wan</td>\n",
       "      <td>Vengeance Hits Home</td>\n",
       "      <td>...</td>\n",
       "      <td>Deckard Shaw seeks revenge against Dominic Tor...</td>\n",
       "      <td>137</td>\n",
       "      <td>Action|Crime|Thriller</td>\n",
       "      <td>Universal Pictures|Original Film|Media Rights ...</td>\n",
       "      <td>4/1/15</td>\n",
       "      <td>2947</td>\n",
       "      <td>7.3</td>\n",
       "      <td>2015</td>\n",
       "      <td>1.747999e+08</td>\n",
       "      <td>1.385749e+09</td>\n",
       "    </tr>\n",
       "  </tbody>\n",
       "</table>\n",
       "<p>5 rows × 21 columns</p>\n",
       "</div>"
      ],
      "text/plain": [
       "       id    imdb_id  popularity     budget     revenue  \\\n",
       "0  135397  tt0369610   32.985763  150000000  1513528810   \n",
       "1   76341  tt1392190   28.419936  150000000   378436354   \n",
       "2  262500  tt2908446   13.112507  110000000   295238201   \n",
       "3  140607  tt2488496   11.173104  200000000  2068178225   \n",
       "4  168259  tt2820852    9.335014  190000000  1506249360   \n",
       "\n",
       "                 original_title  \\\n",
       "0                Jurassic World   \n",
       "1            Mad Max: Fury Road   \n",
       "2                     Insurgent   \n",
       "3  Star Wars: The Force Awakens   \n",
       "4                     Furious 7   \n",
       "\n",
       "                                                cast  \\\n",
       "0  Chris Pratt|Bryce Dallas Howard|Irrfan Khan|Vi...   \n",
       "1  Tom Hardy|Charlize Theron|Hugh Keays-Byrne|Nic...   \n",
       "2  Shailene Woodley|Theo James|Kate Winslet|Ansel...   \n",
       "3  Harrison Ford|Mark Hamill|Carrie Fisher|Adam D...   \n",
       "4  Vin Diesel|Paul Walker|Jason Statham|Michelle ...   \n",
       "\n",
       "                                            homepage          director  \\\n",
       "0                      http://www.jurassicworld.com/   Colin Trevorrow   \n",
       "1                        http://www.madmaxmovie.com/     George Miller   \n",
       "2     http://www.thedivergentseries.movie/#insurgent  Robert Schwentke   \n",
       "3  http://www.starwars.com/films/star-wars-episod...       J.J. Abrams   \n",
       "4                           http://www.furious7.com/         James Wan   \n",
       "\n",
       "                         tagline      ...       \\\n",
       "0              The park is open.      ...        \n",
       "1             What a Lovely Day.      ...        \n",
       "2     One Choice Can Destroy You      ...        \n",
       "3  Every generation has a story.      ...        \n",
       "4            Vengeance Hits Home      ...        \n",
       "\n",
       "                                            overview runtime  \\\n",
       "0  Twenty-two years after the events of Jurassic ...     124   \n",
       "1  An apocalyptic story set in the furthest reach...     120   \n",
       "2  Beatrice Prior must confront her inner demons ...     119   \n",
       "3  Thirty years after defeating the Galactic Empi...     136   \n",
       "4  Deckard Shaw seeks revenge against Dominic Tor...     137   \n",
       "\n",
       "                                      genres  \\\n",
       "0  Action|Adventure|Science Fiction|Thriller   \n",
       "1  Action|Adventure|Science Fiction|Thriller   \n",
       "2         Adventure|Science Fiction|Thriller   \n",
       "3   Action|Adventure|Science Fiction|Fantasy   \n",
       "4                      Action|Crime|Thriller   \n",
       "\n",
       "                                production_companies release_date vote_count  \\\n",
       "0  Universal Studios|Amblin Entertainment|Legenda...       6/9/15       5562   \n",
       "1  Village Roadshow Pictures|Kennedy Miller Produ...      5/13/15       6185   \n",
       "2  Summit Entertainment|Mandeville Films|Red Wago...      3/18/15       2480   \n",
       "3          Lucasfilm|Truenorth Productions|Bad Robot     12/15/15       5292   \n",
       "4  Universal Pictures|Original Film|Media Rights ...       4/1/15       2947   \n",
       "\n",
       "   vote_average  release_year    budget_adj   revenue_adj  \n",
       "0           6.5          2015  1.379999e+08  1.392446e+09  \n",
       "1           7.1          2015  1.379999e+08  3.481613e+08  \n",
       "2           6.3          2015  1.012000e+08  2.716190e+08  \n",
       "3           7.5          2015  1.839999e+08  1.902723e+09  \n",
       "4           7.3          2015  1.747999e+08  1.385749e+09  \n",
       "\n",
       "[5 rows x 21 columns]"
      ]
     },
     "execution_count": 4,
     "metadata": {},
     "output_type": "execute_result"
    }
   ],
   "source": [
    "df = pd.read_csv(\"tmdb-movies.csv\")\n",
    "df.head()\n"
   ]
  },
  {
   "cell_type": "code",
   "execution_count": 5,
   "metadata": {},
   "outputs": [
    {
     "name": "stdout",
     "output_type": "stream",
     "text": [
      "<class 'pandas.core.frame.DataFrame'>\n",
      "RangeIndex: 10866 entries, 0 to 10865\n",
      "Data columns (total 21 columns):\n",
      "id                      10866 non-null int64\n",
      "imdb_id                 10856 non-null object\n",
      "popularity              10866 non-null float64\n",
      "budget                  10866 non-null int64\n",
      "revenue                 10866 non-null int64\n",
      "original_title          10866 non-null object\n",
      "cast                    10790 non-null object\n",
      "homepage                2936 non-null object\n",
      "director                10822 non-null object\n",
      "tagline                 8042 non-null object\n",
      "keywords                9373 non-null object\n",
      "overview                10862 non-null object\n",
      "runtime                 10866 non-null int64\n",
      "genres                  10843 non-null object\n",
      "production_companies    9836 non-null object\n",
      "release_date            10866 non-null object\n",
      "vote_count              10866 non-null int64\n",
      "vote_average            10866 non-null float64\n",
      "release_year            10866 non-null int64\n",
      "budget_adj              10866 non-null float64\n",
      "revenue_adj             10866 non-null float64\n",
      "dtypes: float64(4), int64(6), object(11)\n",
      "memory usage: 1.7+ MB\n"
     ]
    }
   ],
   "source": [
    "df.info()"
   ]
  },
  {
   "cell_type": "markdown",
   "metadata": {},
   "source": [
    "\n",
    "### Data Cleaning"
   ]
  },
  {
   "cell_type": "code",
   "execution_count": 6,
   "metadata": {},
   "outputs": [],
   "source": [
    "df.drop(['homepage','tagline','id','imdb_id','overview','keywords','cast','production_companies'],axis=1,inplace=True)\n"
   ]
  },
  {
   "cell_type": "markdown",
   "metadata": {},
   "source": [
    "We droped the above data because it have no use in answering our questions  "
   ]
  },
  {
   "cell_type": "code",
   "execution_count": 7,
   "metadata": {},
   "outputs": [
    {
     "name": "stdout",
     "output_type": "stream",
     "text": [
      "<class 'pandas.core.frame.DataFrame'>\n",
      "Int64Index: 10801 entries, 0 to 10865\n",
      "Data columns (total 13 columns):\n",
      "popularity        10801 non-null float64\n",
      "budget            10801 non-null int64\n",
      "revenue           10801 non-null int64\n",
      "original_title    10801 non-null object\n",
      "director          10801 non-null object\n",
      "runtime           10801 non-null int64\n",
      "genres            10801 non-null object\n",
      "release_date      10801 non-null object\n",
      "vote_count        10801 non-null int64\n",
      "vote_average      10801 non-null float64\n",
      "release_year      10801 non-null int64\n",
      "budget_adj        10801 non-null float64\n",
      "revenue_adj       10801 non-null float64\n",
      "dtypes: float64(4), int64(5), object(4)\n",
      "memory usage: 1.2+ MB\n"
     ]
    }
   ],
   "source": [
    "df.dropna(inplace=True)\n",
    "df.drop_duplicates()\n",
    "df.info()"
   ]
  },
  {
   "cell_type": "markdown",
   "metadata": {},
   "source": [
    "Also we deleted Nan values and duplicates to make our data cleaner"
   ]
  },
  {
   "cell_type": "markdown",
   "metadata": {},
   "source": [
    "# <a id='eda'></a>\n",
    "## Exploratory Data Analysis\n",
    "\n",
    "### Research Question 1 what is the most common produced genres, most profitable ones and most popular?"
   ]
  },
  {
   "cell_type": "markdown",
   "metadata": {},
   "source": [
    "After looking the genres columns it is shown that a movie can be categorized under more than one genres and for that movies the separation between the genres is by \"|\" so in order to sort the data to apply our data analysis we have taken steps"
   ]
  },
  {
   "cell_type": "code",
   "execution_count": 8,
   "metadata": {},
   "outputs": [
    {
     "data": {
      "text/plain": [
       "array(['Action', 'Adventure', 'Animation', 'Comedy', 'Crime',\n",
       "       'Documentary', 'Drama', 'Family', 'Fantasy', 'Foreign', 'History',\n",
       "       'Horror', 'Music', 'Mystery', 'Romance', 'Science Fiction',\n",
       "       'TV Movie', 'Thriller', 'War', 'Western'], \n",
       "      dtype='<U32')"
      ]
     },
     "execution_count": 8,
     "metadata": {},
     "output_type": "execute_result"
    }
   ],
   "source": [
    "gens = np.array([])\n",
    "for genres in df['genres']:\n",
    "    gens= np.append(gens,genres.split('|'))   \n",
    "gens = np.unique(gens)\n",
    "gens"
   ]
  },
  {
   "cell_type": "markdown",
   "metadata": {},
   "source": [
    "We created numpy array with all the genres that occured in the orignal dataframe and got the unique ones"
   ]
  },
  {
   "cell_type": "code",
   "execution_count": 9,
   "metadata": {},
   "outputs": [
    {
     "name": "stderr",
     "output_type": "stream",
     "text": [
      "/opt/conda/lib/python3.6/site-packages/ipykernel_launcher.py:5: SettingWithCopyWarning: \n",
      "A value is trying to be set on a copy of a slice from a DataFrame.\n",
      "Try using .loc[row_indexer,col_indexer] = value instead\n",
      "\n",
      "See the caveats in the documentation: http://pandas.pydata.org/pandas-docs/stable/indexing.html#indexing-view-versus-copy\n",
      "  \"\"\"\n"
     ]
    }
   ],
   "source": [
    "df_new = pd.DataFrame(columns = df.columns)\n",
    "for gen in gens:\n",
    "    df_gen = df[df['genres'].str.contains(gen)]\n",
    "    gen_array = np.repeat(gen,df_gen.shape[0])\n",
    "    df_gen['genre'] = gen_array\n",
    "    df_new = df_new.append(df_gen,sort=True)"
   ]
  },
  {
   "cell_type": "markdown",
   "metadata": {},
   "source": [
    "Using the numpy array that we created we searched the original data frame by each genre and got all the movies that is under this sepcific genre in new data frame called df_new with column called genre with one genre only and genres with all genres that it falls under"
   ]
  },
  {
   "cell_type": "code",
   "execution_count": 10,
   "metadata": {},
   "outputs": [
    {
     "data": {
      "text/html": [
       "<div>\n",
       "<style scoped>\n",
       "    .dataframe tbody tr th:only-of-type {\n",
       "        vertical-align: middle;\n",
       "    }\n",
       "\n",
       "    .dataframe tbody tr th {\n",
       "        vertical-align: top;\n",
       "    }\n",
       "\n",
       "    .dataframe thead th {\n",
       "        text-align: right;\n",
       "    }\n",
       "</style>\n",
       "<table border=\"1\" class=\"dataframe\">\n",
       "  <thead>\n",
       "    <tr style=\"text-align: right;\">\n",
       "      <th></th>\n",
       "      <th>budget</th>\n",
       "      <th>budget_adj</th>\n",
       "      <th>director</th>\n",
       "      <th>genre</th>\n",
       "      <th>genres</th>\n",
       "      <th>original_title</th>\n",
       "      <th>popularity</th>\n",
       "      <th>release_date</th>\n",
       "      <th>release_year</th>\n",
       "      <th>revenue</th>\n",
       "      <th>revenue_adj</th>\n",
       "      <th>runtime</th>\n",
       "      <th>vote_average</th>\n",
       "      <th>vote_count</th>\n",
       "    </tr>\n",
       "  </thead>\n",
       "  <tbody>\n",
       "    <tr>\n",
       "      <th>0</th>\n",
       "      <td>150000000</td>\n",
       "      <td>1.379999e+08</td>\n",
       "      <td>Colin Trevorrow</td>\n",
       "      <td>Action</td>\n",
       "      <td>Action|Adventure|Science Fiction|Thriller</td>\n",
       "      <td>Jurassic World</td>\n",
       "      <td>32.985763</td>\n",
       "      <td>6/9/15</td>\n",
       "      <td>2015</td>\n",
       "      <td>1513528810</td>\n",
       "      <td>1.392446e+09</td>\n",
       "      <td>124</td>\n",
       "      <td>6.5</td>\n",
       "      <td>5562</td>\n",
       "    </tr>\n",
       "    <tr>\n",
       "      <th>0</th>\n",
       "      <td>150000000</td>\n",
       "      <td>1.379999e+08</td>\n",
       "      <td>Colin Trevorrow</td>\n",
       "      <td>Adventure</td>\n",
       "      <td>Action|Adventure|Science Fiction|Thriller</td>\n",
       "      <td>Jurassic World</td>\n",
       "      <td>32.985763</td>\n",
       "      <td>6/9/15</td>\n",
       "      <td>2015</td>\n",
       "      <td>1513528810</td>\n",
       "      <td>1.392446e+09</td>\n",
       "      <td>124</td>\n",
       "      <td>6.5</td>\n",
       "      <td>5562</td>\n",
       "    </tr>\n",
       "    <tr>\n",
       "      <th>0</th>\n",
       "      <td>150000000</td>\n",
       "      <td>1.379999e+08</td>\n",
       "      <td>Colin Trevorrow</td>\n",
       "      <td>Science Fiction</td>\n",
       "      <td>Action|Adventure|Science Fiction|Thriller</td>\n",
       "      <td>Jurassic World</td>\n",
       "      <td>32.985763</td>\n",
       "      <td>6/9/15</td>\n",
       "      <td>2015</td>\n",
       "      <td>1513528810</td>\n",
       "      <td>1.392446e+09</td>\n",
       "      <td>124</td>\n",
       "      <td>6.5</td>\n",
       "      <td>5562</td>\n",
       "    </tr>\n",
       "    <tr>\n",
       "      <th>0</th>\n",
       "      <td>150000000</td>\n",
       "      <td>1.379999e+08</td>\n",
       "      <td>Colin Trevorrow</td>\n",
       "      <td>Thriller</td>\n",
       "      <td>Action|Adventure|Science Fiction|Thriller</td>\n",
       "      <td>Jurassic World</td>\n",
       "      <td>32.985763</td>\n",
       "      <td>6/9/15</td>\n",
       "      <td>2015</td>\n",
       "      <td>1513528810</td>\n",
       "      <td>1.392446e+09</td>\n",
       "      <td>124</td>\n",
       "      <td>6.5</td>\n",
       "      <td>5562</td>\n",
       "    </tr>\n",
       "  </tbody>\n",
       "</table>\n",
       "</div>"
      ],
      "text/plain": [
       "      budget    budget_adj         director            genre  \\\n",
       "0  150000000  1.379999e+08  Colin Trevorrow           Action   \n",
       "0  150000000  1.379999e+08  Colin Trevorrow        Adventure   \n",
       "0  150000000  1.379999e+08  Colin Trevorrow  Science Fiction   \n",
       "0  150000000  1.379999e+08  Colin Trevorrow         Thriller   \n",
       "\n",
       "                                      genres  original_title  popularity  \\\n",
       "0  Action|Adventure|Science Fiction|Thriller  Jurassic World   32.985763   \n",
       "0  Action|Adventure|Science Fiction|Thriller  Jurassic World   32.985763   \n",
       "0  Action|Adventure|Science Fiction|Thriller  Jurassic World   32.985763   \n",
       "0  Action|Adventure|Science Fiction|Thriller  Jurassic World   32.985763   \n",
       "\n",
       "  release_date release_year     revenue   revenue_adj runtime  vote_average  \\\n",
       "0       6/9/15         2015  1513528810  1.392446e+09     124           6.5   \n",
       "0       6/9/15         2015  1513528810  1.392446e+09     124           6.5   \n",
       "0       6/9/15         2015  1513528810  1.392446e+09     124           6.5   \n",
       "0       6/9/15         2015  1513528810  1.392446e+09     124           6.5   \n",
       "\n",
       "  vote_count  \n",
       "0       5562  \n",
       "0       5562  \n",
       "0       5562  \n",
       "0       5562  "
      ]
     },
     "execution_count": 10,
     "metadata": {},
     "output_type": "execute_result"
    }
   ],
   "source": [
    "df_new[df_new['original_title']== 'Jurassic World']"
   ]
  },
  {
   "cell_type": "markdown",
   "metadata": {},
   "source": [
    "Now we have new dataframe (df_new) that have the genres separated for each movie by making the same row with differance in genre\n",
    "only"
   ]
  },
  {
   "cell_type": "code",
   "execution_count": 11,
   "metadata": {},
   "outputs": [
    {
     "name": "stdout",
     "output_type": "stream",
     "text": [
      "<class 'pandas.core.frame.DataFrame'>\n",
      "Int64Index: 26869 entries, 0 to 10857\n",
      "Data columns (total 14 columns):\n",
      "budget            26869 non-null object\n",
      "budget_adj        26869 non-null float64\n",
      "director          26869 non-null object\n",
      "genre             26869 non-null object\n",
      "genres            26869 non-null object\n",
      "original_title    26869 non-null object\n",
      "popularity        26869 non-null float64\n",
      "release_date      26869 non-null object\n",
      "release_year      26869 non-null object\n",
      "revenue           26869 non-null object\n",
      "revenue_adj       26869 non-null float64\n",
      "runtime           26869 non-null object\n",
      "vote_average      26869 non-null float64\n",
      "vote_count        26869 non-null object\n",
      "dtypes: float64(4), object(10)\n",
      "memory usage: 3.1+ MB\n"
     ]
    }
   ],
   "source": [
    "df_new['genre'].value_counts() \n",
    "df_new.info()"
   ]
  },
  {
   "cell_type": "code",
   "execution_count": 12,
   "metadata": {},
   "outputs": [
    {
     "name": "stdout",
     "output_type": "stream",
     "text": [
      "Drama              4755\n",
      "Comedy             3782\n",
      "Thriller           2905\n",
      "Action             2379\n",
      "Romance            1708\n",
      "Horror             1636\n",
      "Adventure          1466\n",
      "Crime              1354\n",
      "Science Fiction    1224\n",
      "Family             1223\n",
      "Fantasy             912\n",
      "Mystery             809\n",
      "Animation           692\n",
      "Documentary         509\n",
      "Music               402\n",
      "History             332\n",
      "War                 270\n",
      "Foreign             185\n",
      "Western             164\n",
      "TV Movie            162\n",
      "Name: genre, dtype: int64\n"
     ]
    }
   ],
   "source": [
    "labels = df_new['genre'].value_counts()\n",
    "print(labels)"
   ]
  },
  {
   "cell_type": "code",
   "execution_count": 13,
   "metadata": {
    "scrolled": true
   },
   "outputs": [
    {
     "data": {
      "image/png": "[encoded data removed]",
      "text/plain": [
       "<matplotlib.figure.Figure at 0x7f54b50dae10>"
      ]
     },
     "metadata": {
      "needs_background": "light"
     },
     "output_type": "display_data"
    }
   ],
   "source": [
    "labels.plot(kind=\"bar\",figsize=(18,18));\n",
    "lab_title(\"Number of movies produced for each genre\",\"Genres\",\"Number of movies prodcued\",18,18,18)\n",
    "#plt.xlabel(\"Genres\",fontsize=18);\n",
    "#plt.ylabel(\"Number of movies prodcued\",fontsize=18);\n",
    "#plt.title(\"Number of movies produced for each genre\",fontsize=18);\n"
   ]
  },
  {
   "cell_type": "markdown",
   "metadata": {},
   "source": [
    "The data shows that most movies produced are under the genre of Drama, Comedy, Thriller and action and the least produced movies are War , Forign, Western and Tv Movie "
   ]
  },
  {
   "cell_type": "markdown",
   "metadata": {},
   "source": [
    "Now let's see the movies with the highest profit falls under which genre\n",
    "to do so, first we will take the revenue_adj - budget_adj and create new column called adj_profit, we are using the adjacent not the actual to keep respect of inflation over time, the adj columns are in terms of 2010 dollars as provided by the documentation of (Investigate a Dataset - Data Set Options)"
   ]
  },
  {
   "cell_type": "code",
   "execution_count": 14,
   "metadata": {},
   "outputs": [],
   "source": [
    "df_new['adj_profit'] = df_new['revenue_adj'] - df_new['budget_adj']"
   ]
  },
  {
   "cell_type": "code",
   "execution_count": 15,
   "metadata": {},
   "outputs": [
    {
     "data": {
      "text/html": [
       "<div>\n",
       "<style scoped>\n",
       "    .dataframe tbody tr th:only-of-type {\n",
       "        vertical-align: middle;\n",
       "    }\n",
       "\n",
       "    .dataframe tbody tr th {\n",
       "        vertical-align: top;\n",
       "    }\n",
       "\n",
       "    .dataframe thead th {\n",
       "        text-align: right;\n",
       "    }\n",
       "</style>\n",
       "<table border=\"1\" class=\"dataframe\">\n",
       "  <thead>\n",
       "    <tr style=\"text-align: right;\">\n",
       "      <th></th>\n",
       "      <th>count</th>\n",
       "      <th>mean</th>\n",
       "      <th>std</th>\n",
       "      <th>min</th>\n",
       "      <th>25%</th>\n",
       "      <th>50%</th>\n",
       "      <th>75%</th>\n",
       "      <th>max</th>\n",
       "    </tr>\n",
       "    <tr>\n",
       "      <th>genre</th>\n",
       "      <th></th>\n",
       "      <th></th>\n",
       "      <th></th>\n",
       "      <th></th>\n",
       "      <th></th>\n",
       "      <th></th>\n",
       "      <th></th>\n",
       "      <th></th>\n",
       "    </tr>\n",
       "  </thead>\n",
       "  <tbody>\n",
       "    <tr>\n",
       "      <th>Action</th>\n",
       "      <td>2,379.00</td>\n",
       "      <td>58,909,536.03</td>\n",
       "      <td>178,057,470.07</td>\n",
       "      <td>-413,912,431.00</td>\n",
       "      <td>-1,216,997.50</td>\n",
       "      <td>0.00</td>\n",
       "      <td>42,420,602.64</td>\n",
       "      <td>2,750,136,650.92</td>\n",
       "    </tr>\n",
       "    <tr>\n",
       "      <th>Adventure</th>\n",
       "      <td>1,466.00</td>\n",
       "      <td>98,071,241.61</td>\n",
       "      <td>243,907,800.85</td>\n",
       "      <td>-413,912,431.00</td>\n",
       "      <td>0.00</td>\n",
       "      <td>0.00</td>\n",
       "      <td>84,263,219.07</td>\n",
       "      <td>2,750,136,650.92</td>\n",
       "    </tr>\n",
       "    <tr>\n",
       "      <th>Animation</th>\n",
       "      <td>692.00</td>\n",
       "      <td>60,567,316.86</td>\n",
       "      <td>175,369,769.53</td>\n",
       "      <td>-118,534,968.14</td>\n",
       "      <td>0.00</td>\n",
       "      <td>0.00</td>\n",
       "      <td>8,676,718.31</td>\n",
       "      <td>1,545,635,294.87</td>\n",
       "    </tr>\n",
       "    <tr>\n",
       "      <th>Comedy</th>\n",
       "      <td>3,782.00</td>\n",
       "      <td>32,069,103.44</td>\n",
       "      <td>98,950,287.55</td>\n",
       "      <td>-115,469,127.29</td>\n",
       "      <td>0.00</td>\n",
       "      <td>0.00</td>\n",
       "      <td>20,454,080.06</td>\n",
       "      <td>1,545,635,294.87</td>\n",
       "    </tr>\n",
       "    <tr>\n",
       "      <th>Crime</th>\n",
       "      <td>1,354.00</td>\n",
       "      <td>35,081,454.87</td>\n",
       "      <td>109,007,660.21</td>\n",
       "      <td>-82,308,987.43</td>\n",
       "      <td>-689,426.98</td>\n",
       "      <td>0.00</td>\n",
       "      <td>33,812,321.90</td>\n",
       "      <td>1,551,568,265.28</td>\n",
       "    </tr>\n",
       "    <tr>\n",
       "      <th>Documentary</th>\n",
       "      <td>509.00</td>\n",
       "      <td>1,670,592.99</td>\n",
       "      <td>11,254,094.85</td>\n",
       "      <td>-60,984,026.05</td>\n",
       "      <td>0.00</td>\n",
       "      <td>0.00</td>\n",
       "      <td>0.00</td>\n",
       "      <td>130,584,533.80</td>\n",
       "    </tr>\n",
       "    <tr>\n",
       "      <th>Drama</th>\n",
       "      <td>4,755.00</td>\n",
       "      <td>25,583,621.11</td>\n",
       "      <td>101,317,946.45</td>\n",
       "      <td>-150,000,000.00</td>\n",
       "      <td>0.00</td>\n",
       "      <td>0.00</td>\n",
       "      <td>10,320,131.34</td>\n",
       "      <td>2,234,713,671.21</td>\n",
       "    </tr>\n",
       "    <tr>\n",
       "      <th>Family</th>\n",
       "      <td>1,223.00</td>\n",
       "      <td>61,217,142.74</td>\n",
       "      <td>176,083,965.88</td>\n",
       "      <td>-120,392,592.22</td>\n",
       "      <td>0.00</td>\n",
       "      <td>0.00</td>\n",
       "      <td>37,795,400.89</td>\n",
       "      <td>1,767,968,064.02</td>\n",
       "    </tr>\n",
       "    <tr>\n",
       "      <th>Fantasy</th>\n",
       "      <td>912.00</td>\n",
       "      <td>74,133,673.32</td>\n",
       "      <td>212,342,150.92</td>\n",
       "      <td>-413,912,431.00</td>\n",
       "      <td>0.00</td>\n",
       "      <td>0.00</td>\n",
       "      <td>55,104,647.62</td>\n",
       "      <td>2,586,236,847.52</td>\n",
       "    </tr>\n",
       "    <tr>\n",
       "      <th>Foreign</th>\n",
       "      <td>185.00</td>\n",
       "      <td>-623,992.06</td>\n",
       "      <td>13,158,949.05</td>\n",
       "      <td>-140,409,208.60</td>\n",
       "      <td>0.00</td>\n",
       "      <td>0.00</td>\n",
       "      <td>0.00</td>\n",
       "      <td>67,755,425.80</td>\n",
       "    </tr>\n",
       "    <tr>\n",
       "      <th>History</th>\n",
       "      <td>332.00</td>\n",
       "      <td>21,519,417.68</td>\n",
       "      <td>86,727,843.73</td>\n",
       "      <td>-140,409,208.60</td>\n",
       "      <td>-992,431.17</td>\n",
       "      <td>0.00</td>\n",
       "      <td>16,041,174.42</td>\n",
       "      <td>572,485,481.13</td>\n",
       "    </tr>\n",
       "    <tr>\n",
       "      <th>Horror</th>\n",
       "      <td>1,636.00</td>\n",
       "      <td>16,327,843.80</td>\n",
       "      <td>86,038,222.93</td>\n",
       "      <td>-150,000,000.00</td>\n",
       "      <td>-50,213.68</td>\n",
       "      <td>0.00</td>\n",
       "      <td>80,957.02</td>\n",
       "      <td>2,128,035,624.57</td>\n",
       "    </tr>\n",
       "    <tr>\n",
       "      <th>Music</th>\n",
       "      <td>402.00</td>\n",
       "      <td>34,169,548.84</td>\n",
       "      <td>115,249,494.79</td>\n",
       "      <td>-67,318,962.87</td>\n",
       "      <td>0.00</td>\n",
       "      <td>0.00</td>\n",
       "      <td>10,062,528.29</td>\n",
       "      <td>1,072,786,239.70</td>\n",
       "    </tr>\n",
       "    <tr>\n",
       "      <th>Mystery</th>\n",
       "      <td>809.00</td>\n",
       "      <td>31,445,811.13</td>\n",
       "      <td>105,942,718.29</td>\n",
       "      <td>-75,326,997.94</td>\n",
       "      <td>-748,826.68</td>\n",
       "      <td>0.00</td>\n",
       "      <td>18,593,456.05</td>\n",
       "      <td>1,551,568,265.28</td>\n",
       "    </tr>\n",
       "    <tr>\n",
       "      <th>Romance</th>\n",
       "      <td>1,708.00</td>\n",
       "      <td>32,613,161.84</td>\n",
       "      <td>113,099,890.80</td>\n",
       "      <td>-107,634,829.72</td>\n",
       "      <td>0.00</td>\n",
       "      <td>0.00</td>\n",
       "      <td>21,138,186.02</td>\n",
       "      <td>2,234,713,671.21</td>\n",
       "    </tr>\n",
       "    <tr>\n",
       "      <th>Science Fiction</th>\n",
       "      <td>1,224.00</td>\n",
       "      <td>57,665,108.39</td>\n",
       "      <td>200,700,860.99</td>\n",
       "      <td>-122,261,428.90</td>\n",
       "      <td>-245,061.30</td>\n",
       "      <td>0.00</td>\n",
       "      <td>24,448,101.31</td>\n",
       "      <td>2,750,136,650.92</td>\n",
       "    </tr>\n",
       "    <tr>\n",
       "      <th>TV Movie</th>\n",
       "      <td>162.00</td>\n",
       "      <td>55,268.58</td>\n",
       "      <td>4,330,646.22</td>\n",
       "      <td>-12,196,805.21</td>\n",
       "      <td>0.00</td>\n",
       "      <td>0.00</td>\n",
       "      <td>0.00</td>\n",
       "      <td>51,438,019.34</td>\n",
       "    </tr>\n",
       "    <tr>\n",
       "      <th>Thriller</th>\n",
       "      <td>2,905.00</td>\n",
       "      <td>34,616,965.16</td>\n",
       "      <td>126,236,976.73</td>\n",
       "      <td>-413,912,431.00</td>\n",
       "      <td>-1,298,993.38</td>\n",
       "      <td>0.00</td>\n",
       "      <td>19,025,591.53</td>\n",
       "      <td>2,234,713,671.21</td>\n",
       "    </tr>\n",
       "    <tr>\n",
       "      <th>War</th>\n",
       "      <td>270.00</td>\n",
       "      <td>41,056,045.74</td>\n",
       "      <td>113,626,938.84</td>\n",
       "      <td>-137,586,847.77</td>\n",
       "      <td>0.00</td>\n",
       "      <td>0.00</td>\n",
       "      <td>28,851,651.05</td>\n",
       "      <td>676,290,702.43</td>\n",
       "    </tr>\n",
       "    <tr>\n",
       "      <th>Western</th>\n",
       "      <td>164.00</td>\n",
       "      <td>21,735,555.56</td>\n",
       "      <td>106,764,722.31</td>\n",
       "      <td>-413,912,431.00</td>\n",
       "      <td>-125,962.78</td>\n",
       "      <td>0.00</td>\n",
       "      <td>1,335,674.03</td>\n",
       "      <td>671,245,759.33</td>\n",
       "    </tr>\n",
       "  </tbody>\n",
       "</table>\n",
       "</div>"
      ],
      "text/plain": [
       "                               count                 mean  \\\n",
       "genre                                                       \n",
       "Action                      2,379.00        58,909,536.03   \n",
       "Adventure                   1,466.00        98,071,241.61   \n",
       "Animation                     692.00        60,567,316.86   \n",
       "Comedy                      3,782.00        32,069,103.44   \n",
       "Crime                       1,354.00        35,081,454.87   \n",
       "Documentary                   509.00         1,670,592.99   \n",
       "Drama                       4,755.00        25,583,621.11   \n",
       "Family                      1,223.00        61,217,142.74   \n",
       "Fantasy                       912.00        74,133,673.32   \n",
       "Foreign                       185.00          -623,992.06   \n",
       "History                       332.00        21,519,417.68   \n",
       "Horror                      1,636.00        16,327,843.80   \n",
       "Music                         402.00        34,169,548.84   \n",
       "Mystery                       809.00        31,445,811.13   \n",
       "Romance                     1,708.00        32,613,161.84   \n",
       "Science Fiction             1,224.00        57,665,108.39   \n",
       "TV Movie                      162.00            55,268.58   \n",
       "Thriller                    2,905.00        34,616,965.16   \n",
       "War                           270.00        41,056,045.74   \n",
       "Western                       164.00        21,735,555.56   \n",
       "\n",
       "                                 std                  min  \\\n",
       "genre                                                       \n",
       "Action                178,057,470.07      -413,912,431.00   \n",
       "Adventure             243,907,800.85      -413,912,431.00   \n",
       "Animation             175,369,769.53      -118,534,968.14   \n",
       "Comedy                 98,950,287.55      -115,469,127.29   \n",
       "Crime                 109,007,660.21       -82,308,987.43   \n",
       "Documentary            11,254,094.85       -60,984,026.05   \n",
       "Drama                 101,317,946.45      -150,000,000.00   \n",
       "Family                176,083,965.88      -120,392,592.22   \n",
       "Fantasy               212,342,150.92      -413,912,431.00   \n",
       "Foreign                13,158,949.05      -140,409,208.60   \n",
       "History                86,727,843.73      -140,409,208.60   \n",
       "Horror                 86,038,222.93      -150,000,000.00   \n",
       "Music                 115,249,494.79       -67,318,962.87   \n",
       "Mystery               105,942,718.29       -75,326,997.94   \n",
       "Romance               113,099,890.80      -107,634,829.72   \n",
       "Science Fiction       200,700,860.99      -122,261,428.90   \n",
       "TV Movie                4,330,646.22       -12,196,805.21   \n",
       "Thriller              126,236,976.73      -413,912,431.00   \n",
       "War                   113,626,938.84      -137,586,847.77   \n",
       "Western               106,764,722.31      -413,912,431.00   \n",
       "\n",
       "                                 25%                  50%  \\\n",
       "genre                                                       \n",
       "Action                 -1,216,997.50                 0.00   \n",
       "Adventure                       0.00                 0.00   \n",
       "Animation                       0.00                 0.00   \n",
       "Comedy                          0.00                 0.00   \n",
       "Crime                    -689,426.98                 0.00   \n",
       "Documentary                     0.00                 0.00   \n",
       "Drama                           0.00                 0.00   \n",
       "Family                          0.00                 0.00   \n",
       "Fantasy                         0.00                 0.00   \n",
       "Foreign                         0.00                 0.00   \n",
       "History                  -992,431.17                 0.00   \n",
       "Horror                    -50,213.68                 0.00   \n",
       "Music                           0.00                 0.00   \n",
       "Mystery                  -748,826.68                 0.00   \n",
       "Romance                         0.00                 0.00   \n",
       "Science Fiction          -245,061.30                 0.00   \n",
       "TV Movie                        0.00                 0.00   \n",
       "Thriller               -1,298,993.38                 0.00   \n",
       "War                             0.00                 0.00   \n",
       "Western                  -125,962.78                 0.00   \n",
       "\n",
       "                                 75%                  max  \n",
       "genre                                                      \n",
       "Action                 42,420,602.64     2,750,136,650.92  \n",
       "Adventure              84,263,219.07     2,750,136,650.92  \n",
       "Animation               8,676,718.31     1,545,635,294.87  \n",
       "Comedy                 20,454,080.06     1,545,635,294.87  \n",
       "Crime                  33,812,321.90     1,551,568,265.28  \n",
       "Documentary                     0.00       130,584,533.80  \n",
       "Drama                  10,320,131.34     2,234,713,671.21  \n",
       "Family                 37,795,400.89     1,767,968,064.02  \n",
       "Fantasy                55,104,647.62     2,586,236,847.52  \n",
       "Foreign                         0.00        67,755,425.80  \n",
       "History                16,041,174.42       572,485,481.13  \n",
       "Horror                     80,957.02     2,128,035,624.57  \n",
       "Music                  10,062,528.29     1,072,786,239.70  \n",
       "Mystery                18,593,456.05     1,551,568,265.28  \n",
       "Romance                21,138,186.02     2,234,713,671.21  \n",
       "Science Fiction        24,448,101.31     2,750,136,650.92  \n",
       "TV Movie                        0.00        51,438,019.34  \n",
       "Thriller               19,025,591.53     2,234,713,671.21  \n",
       "War                    28,851,651.05       676,290,702.43  \n",
       "Western                 1,335,674.03       671,245,759.33  "
      ]
     },
     "execution_count": 15,
     "metadata": {},
     "output_type": "execute_result"
    }
   ],
   "source": [
    "#it seems like the data is displayed in scientific notation this line of code is to display it in standerd one\n",
    "pd.options.display.float_format = '{:20,.2f}'.format\n",
    "\n",
    "df_new.groupby('genre')['adj_profit'].describe()"
   ]
  },
  {
   "cell_type": "markdown",
   "metadata": {},
   "source": [
    "This data is not correct it look corrupted somehow especially in the Foreign genre"
   ]
  },
  {
   "cell_type": "code",
   "execution_count": 16,
   "metadata": {},
   "outputs": [
    {
     "data": {
      "text/plain": [
       "budget            14204\n",
       "budget_adj        14204\n",
       "director          14204\n",
       "genre             14204\n",
       "genres            14204\n",
       "original_title    14204\n",
       "popularity        14204\n",
       "release_date      14204\n",
       "release_year      14204\n",
       "revenue           14204\n",
       "revenue_adj       14204\n",
       "runtime           14204\n",
       "vote_average      14204\n",
       "vote_count        14204\n",
       "adj_profit        14204\n",
       "dtype: int64"
      ]
     },
     "execution_count": 16,
     "metadata": {},
     "output_type": "execute_result"
    }
   ],
   "source": [
    "df_new.query('revenue_adj == 0').count()"
   ]
  },
  {
   "cell_type": "markdown",
   "metadata": {},
   "source": [
    "The Data shows zeros for unprovided data so we need to do more cleaning to the data by changing the zeros to nan values then fill it with mean to do our analysis"
   ]
  },
  {
   "cell_type": "code",
   "execution_count": 17,
   "metadata": {},
   "outputs": [
    {
     "data": {
      "text/plain": [
       "budget                0\n",
       "budget_adj            0\n",
       "director              0\n",
       "genre                 0\n",
       "genres                0\n",
       "original_title        0\n",
       "popularity            0\n",
       "release_date          0\n",
       "release_year          0\n",
       "revenue               0\n",
       "revenue_adj       14204\n",
       "runtime               0\n",
       "vote_average          0\n",
       "vote_count            0\n",
       "adj_profit        14204\n",
       "dtype: int64"
      ]
     },
     "execution_count": 17,
     "metadata": {},
     "output_type": "execute_result"
    }
   ],
   "source": [
    "row_r = df_new.query('revenue_adj ==0').index\n",
    "df_new.loc[row_r,['revenue_adj','adj_profit']] = np.nan\n",
    "df_new.isnull().sum()\n"
   ]
  },
  {
   "cell_type": "markdown",
   "metadata": {},
   "source": [
    "by getting the index of the rows with zero values then use that index to turn all zeros to nan values we will now fill those nan values with the mean without removing these rows to use it for further analysis"
   ]
  },
  {
   "cell_type": "code",
   "execution_count": 18,
   "metadata": {},
   "outputs": [
    {
     "name": "stdout",
     "output_type": "stream",
     "text": [
      "genre\n",
      "Action                  116,282,665.08\n",
      "Adventure               175,022,207.91\n",
      "Animation               180,658,776.27\n",
      "Comedy                   72,578,972.01\n",
      "Crime                    65,471,850.22\n",
      "Documentary               9,666,469.51\n",
      "Drama                    57,781,245.18\n",
      "Family                  151,629,566.81\n",
      "Fantasy                 152,096,368.90\n",
      "Foreign                   5,362,046.83\n",
      "History                  56,714,553.01\n",
      "Horror                   51,092,598.14\n",
      "Music                    76,605,834.65\n",
      "Mystery                  64,994,100.30\n",
      "Romance                  68,376,369.80\n",
      "Science Fiction         124,041,062.92\n",
      "TV Movie                 51,438,019.34\n",
      "Thriller                 75,131,410.79\n",
      "War                      88,180,800.41\n",
      "Western                  63,273,434.28\n",
      "Name: adj_profit, dtype: float64\n"
     ]
    }
   ],
   "source": [
    "df_new.fillna(df_new.mean())\n",
    "profit_mean=df_new.groupby('genre')['adj_profit'].mean()\n",
    "print(profit_mean)"
   ]
  },
  {
   "cell_type": "code",
   "execution_count": 19,
   "metadata": {},
   "outputs": [
    {
     "data": {
      "image/png": "[encoded data removed]",
      "text/plain": [
       "<matplotlib.figure.Figure at 0x7f54b4ae51d0>"
      ]
     },
     "metadata": {
      "needs_background": "light"
     },
     "output_type": "display_data"
    }
   ],
   "source": [
    "profit_mean.plot(kind='bar',figsize=(20,20));\n",
    "lab_title(\"Average profit of each genre\",\"Genres\",\"Adjacent profit in hundred millions\",18,18,18)\n",
    "#plt.xlabel(\"Genres\",fontsize=18);\n",
    "#plt.ylabel(\"Adjacent profit in hundred millions\",fontsize=18);\n",
    "#plt.title(\"Average profit of each genre\",fontsize=18);"
   ]
  },
  {
   "cell_type": "markdown",
   "metadata": {},
   "source": [
    "As the figure shows, the most profitable movies are Animation with an average profit of  180,658,776.27$.\n"
   ]
  },
  {
   "cell_type": "code",
   "execution_count": 20,
   "metadata": {},
   "outputs": [
    {
     "data": {
      "text/plain": [
       "genre\n",
       "Action                            0.93\n",
       "Adventure                         1.16\n",
       "Animation                         0.86\n",
       "Comedy                            0.59\n",
       "Crime                             0.75\n",
       "Documentary                       0.18\n",
       "Drama                             0.59\n",
       "Family                            0.79\n",
       "Fantasy                           1.00\n",
       "Foreign                           0.19\n",
       "History                           0.58\n",
       "Horror                            0.47\n",
       "Music                             0.49\n",
       "Mystery                           0.69\n",
       "Romance                           0.59\n",
       "Science Fiction                   1.01\n",
       "TV Movie                          0.27\n",
       "Thriller                          0.74\n",
       "War                               0.73\n",
       "Western                           0.59\n",
       "Name: popularity, dtype: float64"
      ]
     },
     "execution_count": 20,
     "metadata": {},
     "output_type": "execute_result"
    }
   ],
   "source": [
    "pop_mean=df_new.groupby('genre')['popularity'].mean()\n",
    "pop_mean"
   ]
  },
  {
   "cell_type": "code",
   "execution_count": 21,
   "metadata": {},
   "outputs": [
    {
     "data": {
      "image/png": "[encoded data removed]",
      "text/plain": [
       "<matplotlib.figure.Figure at 0x7f54b493d080>"
      ]
     },
     "metadata": {
      "needs_background": "light"
     },
     "output_type": "display_data"
    }
   ],
   "source": [
    "pop_mean.plot(kind='bar',figsize=(18,18));\n",
    "\n",
    "lab_title(\"Avrage popularity for each genre\",\"Genres\",\"Popularity\",18,18,18)\n",
    "#plt.xlabel(\"Genres\",fontsize=18);\n",
    "#plt.ylabel(\"Popularity\",fontsize=18);\n",
    "#plt.title(\"Avrage popularity for each genre\",fontsize=18);"
   ]
  },
  {
   "cell_type": "markdown",
   "metadata": {},
   "source": [
    "The most popular movies are Adventure movies with mean popularity of 1.16"
   ]
  },
  {
   "cell_type": "markdown",
   "metadata": {},
   "source": [
    "### Research Question 2  The growth of the movie industry?"
   ]
  },
  {
   "cell_type": "code",
   "execution_count": 22,
   "metadata": {},
   "outputs": [
    {
     "data": {
      "image/png": "[encoded data removed]",
      "text/plain": [
       "<matplotlib.figure.Figure at 0x7f54b4a2a0b8>"
      ]
     },
     "metadata": {
      "needs_background": "light"
     },
     "output_type": "display_data"
    }
   ],
   "source": [
    "n_mov =df_new['release_year'].value_counts();\n",
    "plt.scatter(x=n_mov.index,y=n_mov);\n",
    "lab_title('Number of released movies in each year','year','Number of released movies')\n",
    "#plt.title('Number of released movies in each year');\n",
    "#plt.xlabel('year');\n",
    "#plt.ylabel('Number of released movies');"
   ]
  },
  {
   "cell_type": "markdown",
   "metadata": {},
   "source": [
    "The figure shows that movie released every year is in increase (Positive correlation)\n"
   ]
  },
  {
   "cell_type": "code",
   "execution_count": 23,
   "metadata": {},
   "outputs": [
    {
     "data": {
      "image/png": "[encoded data removed]",
      "text/plain": [
       "<matplotlib.figure.Figure at 0x7f54b4ae5860>"
      ]
     },
     "metadata": {
      "needs_background": "light"
     },
     "output_type": "display_data"
    }
   ],
   "source": [
    "bud_year = df_new.groupby('release_year')['budget_adj'].mean()\n",
    "df_new['budget']=df_new['budget'].astype('float')\n",
    "abud_year = df_new.groupby('release_year')['budget'].mean()\n",
    "plt.scatter(x=bud_year.index,y=bud_year);\n",
    "plt.scatter(x=abud_year.index,y=abud_year);\n",
    "lab_title('Average budget of movies in each year','year','Budget in hundred million')\n",
    "#plt.title('Average budget of movies in each year');\n",
    "#plt.xlabel('year');\n",
    "#plt.ylabel('Budget in hundred million');"
   ]
  },
  {
   "cell_type": "markdown",
   "metadata": {},
   "source": [
    "we changed data type of budget to float then get the mean budget and adjacent budget and plotted with years to see the relation\n"
   ]
  },
  {
   "cell_type": "markdown",
   "metadata": {},
   "source": [
    "The figure shows that the budget and adjacent budget that is being invested in movie production is increasing by time (Positive correlation)\n"
   ]
  },
  {
   "cell_type": "markdown",
   "metadata": {},
   "source": [
    "the above two figures shows that the movie industry is getting bigger by time as number of released movies and mean budget of movies are increasing by time"
   ]
  },
  {
   "cell_type": "markdown",
   "metadata": {},
   "source": [
    "### Research Question 3  What is the relation between vote and other factors?"
   ]
  },
  {
   "cell_type": "markdown",
   "metadata": {},
   "source": [
    "Are movies with higher budget get higher votes?"
   ]
  },
  {
   "cell_type": "code",
   "execution_count": 24,
   "metadata": {},
   "outputs": [
    {
     "data": {
      "image/png": "[encoded data removed]",
      "text/plain": [
       "<matplotlib.figure.Figure at 0x7f54b4942f28>"
      ]
     },
     "metadata": {
      "needs_background": "light"
     },
     "output_type": "display_data"
    }
   ],
   "source": [
    "df_new['budget']=df_new['budget'].astype('float')\n",
    "df_new.plot(y='budget',x='vote_average',kind = 'scatter');\n",
    "plt.title('Relation between vote and budget');"
   ]
  },
  {
   "cell_type": "markdown",
   "metadata": {},
   "source": [
    "we had to change data type of budget to float then create our scatter plot"
   ]
  },
  {
   "cell_type": "markdown",
   "metadata": {},
   "source": [
    "The figure shows that there is positive correlation between vote and budget till vote average 6 and negative correlation afterwards"
   ]
  },
  {
   "cell_type": "markdown",
   "metadata": {},
   "source": [
    "### Are movies with higher votes are profitable?"
   ]
  },
  {
   "cell_type": "code",
   "execution_count": 25,
   "metadata": {},
   "outputs": [
    {
     "data": {
      "image/png": "[encoded data removed]",
      "text/plain": [
       "<matplotlib.figure.Figure at 0x7f54b4a3b5c0>"
      ]
     },
     "metadata": {
      "needs_background": "light"
     },
     "output_type": "display_data"
    }
   ],
   "source": [
    "df_new.plot(y='adj_profit',x='vote_average',kind = 'scatter');\n",
    "plt.title('Relation between vote and profit');"
   ]
  },
  {
   "cell_type": "markdown",
   "metadata": {},
   "source": [
    "The figure shows that movies with higher vote are more profitable\n"
   ]
  },
  {
   "cell_type": "markdown",
   "metadata": {},
   "source": [
    "### Are higher votes movies more popular?"
   ]
  },
  {
   "cell_type": "code",
   "execution_count": 26,
   "metadata": {},
   "outputs": [
    {
     "data": {
      "image/png": "[encoded data removed]",
      "text/plain": [
       "<matplotlib.figure.Figure at 0x7f54b48f06d8>"
      ]
     },
     "metadata": {
      "needs_background": "light"
     },
     "output_type": "display_data"
    }
   ],
   "source": [
    "df_new['vote_count']=df_new['vote_count'].astype('float')\n",
    "df_new.plot(x='vote_average',y='popularity',kind = 'scatter');\n",
    "plt.title('Relation between vote and popularity');"
   ]
  },
  {
   "cell_type": "markdown",
   "metadata": {},
   "source": [
    "we changed data type of vote count to float then plotted our scatter diagram"
   ]
  },
  {
   "cell_type": "markdown",
   "metadata": {},
   "source": [
    "The Figure shows that movies with higher vote are more popular (Positive correlation)"
   ]
  },
  {
   "cell_type": "markdown",
   "metadata": {},
   "source": [
    "## Lets Split our data to decades and see how much each decade take"
   ]
  },
  {
   "cell_type": "code",
   "execution_count": 27,
   "metadata": {},
   "outputs": [],
   "source": [
    "bin_edges = [1959,1969,1979,1989,1999,2009,2015]\n",
    "bin_labels = ['60s','70s','80s','90s','2000s','2010 to 15']\n",
    "df_new['decade']= pd.cut(df_new['release_year'],bin_edges,labels=bin_labels)\n",
    "\n",
    "df_60 = df_new[df_new['decade']==\"60s\"]\n",
    "df_70 = df_new[df_new['decade']==\"70s\"]\n",
    "df_80 = df_new[df_new['decade']==\"80s\"]\n",
    "df_90 = df_new[df_new['decade']==\"90s\"]\n",
    "df_20 = df_new[df_new['decade']==\"2000s\"]\n",
    "df_21 = df_new[df_new['decade']==\"2010 to 15\"]"
   ]
  },
  {
   "cell_type": "code",
   "execution_count": 28,
   "metadata": {},
   "outputs": [
    {
     "data": {
      "text/plain": [
       "Text(0,0.5,' ')"
      ]
     },
     "execution_count": 28,
     "metadata": {},
     "output_type": "execute_result"
    },
    {
     "data": {
      "image/png": "[encoded data removed]",
      "text/plain": [
       "<matplotlib.figure.Figure at 0x7f54b5150550>"
      ]
     },
     "metadata": {},
     "output_type": "display_data"
    }
   ],
   "source": [
    "df_new['decade'].value_counts().plot(kind='pie',figsize=(12,12));\n",
    "plt.ylabel(' ')\n"
   ]
  },
  {
   "cell_type": "markdown",
   "metadata": {},
   "source": [
    "This pie chart shows us the portion of that each decade takes in our dataset"
   ]
  },
  {
   "cell_type": "markdown",
   "metadata": {},
   "source": [
    "<a id='conclusions'></a>\n",
    "## Conclusions\n",
    "\n",
    "With our investigation findings we were able to answer many questions,we were able to know that most of the movies released falls under the genre of Drama,the most profitable movies are animation and the most popular movies are Adventure movies,Also\n",
    "we have seen that the movie industry is in growth as number of movies released each year are increasing also that the average budget of theses movies is increasing, we have also found out the relation between vote_average(movie rating) ,popularity,budget and profit which shows some positive correlation in terms of popularity and profit and shows a positive negative relation in terms of budget at vote average of 6,in the end with this data with further investigation we can find who is best director best director for each genre.\n",
    "\n",
    "\n",
    "\n",
    "\n",
    "### Limitations\n",
    "There are limitations to our analysis due to missing data, alot of revenue data is missing specially for older and forgein movies, due to huge gap in vote counts movie ratings comparing will not be accurate, also if awards winning and nominations \n",
    "are provided it would give us more insight.\n"
   ]
  }
 ],
 "metadata": {
  "kernelspec": {
   "display_name": "Python 3",
   "language": "python",
   "name": "python3"
  },
  "language_info": {
   "codemirror_mode": {
    "name": "ipython",
    "version": 3
   },
   "file_extension": ".py",
   "mimetype": "text/x-python",
   "name": "python",
   "nbconvert_exporter": "python",
   "pygments_lexer": "ipython3",
   "version": "3.6.3"
  }
 },
 "nbformat": 4,
 "nbformat_minor": 2
}
